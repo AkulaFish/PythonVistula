{
  "nbformat": 4,
  "nbformat_minor": 0,
  "metadata": {
    "colab": {
      "provenance": [],
      "toc_visible": true,
      "authorship_tag": "ABX9TyOKjoCXzUMtDJB47YJt81Da",
      "include_colab_link": true
    },
    "kernelspec": {
      "name": "python3",
      "display_name": "Python 3"
    },
    "language_info": {
      "name": "python"
    }
  },
  "cells": [
    {
      "cell_type": "markdown",
      "metadata": {
        "id": "view-in-github",
        "colab_type": "text"
      },
      "source": [
        "<a href=\"https://colab.research.google.com/github/AkulaFish/PythonVistula/blob/main/DzianisVaitsiahovich58918_Lab1.ipynb\" target=\"_parent\"><img src=\"https://colab.research.google.com/assets/colab-badge.svg\" alt=\"Open In Colab\"/></a>"
      ]
    },
    {
      "cell_type": "code",
      "execution_count": 1,
      "metadata": {
        "colab": {
          "base_uri": "https://localhost:8080/"
        },
        "id": "CB-Yg82_s-Rs",
        "outputId": "92d1adb4-45db-47f5-b8b6-4d6735291478"
      },
      "outputs": [
        {
          "output_type": "stream",
          "name": "stdout",
          "text": [
            "[3, 10, 17, 24, 31, 38, 45, 52]\n"
          ]
        }
      ],
      "source": [
        "# Zadanie 1.\n",
        "# Proszę utworzyć listę liczb od 1 do 57 , których reszta z dzielenia przez 7\n",
        "# wynosi 3. Proszę wyświetlić tę listę\n",
        "result = []\n",
        "for i in range(1, 58):\n",
        "  if i % 7 == 3:\n",
        "    result.append(i)\n",
        "\n",
        "print(result)"
      ]
    },
    {
      "cell_type": "code",
      "source": [
        "# Zadanie 2.\n",
        "# Mając do dyspozycji trzy napisy:\n",
        "# miau = \"Miau\"\n",
        "# przecinek = \", \"\n",
        "# hau = \"Hau\"\n",
        "# proszę z nich wynerować napis: \"MiauMiauMiau, HauHau\"\n",
        "\n",
        "miau = \"Miau\"\n",
        "przecinek = \", \"\n",
        "hau = \"Hau\"\n",
        "\n",
        "print(miau + miau + miau + przecinek + hau + hau)"
      ],
      "metadata": {
        "colab": {
          "base_uri": "https://localhost:8080/"
        },
        "id": "Tl5cv3OptZyw",
        "outputId": "b5d1a9b3-178d-45ce-b252-83469118a43c"
      },
      "execution_count": 2,
      "outputs": [
        {
          "output_type": "stream",
          "name": "stdout",
          "text": [
            "MiauMiauMiau, HauHau\n"
          ]
        }
      ]
    },
    {
      "cell_type": "code",
      "source": [
        "# Zadanie 3\n",
        "# Ze zdania:\n",
        "# zdanie = \"Studenci Vistuli są utalentowani, inteligentni i mili\"\n",
        "# zdanie += \", ale nie zaliczą tego kursu\"\n",
        "# proszę wyciąć część w oczywisty sposób nieprawdziwą i wyświetlić\n",
        "# część pozostałą.\n",
        "# Wskazówka: najpierw proszę utworzyć listę słów w zdaniu 'zdanie'. \n",
        "\n",
        "zdanie = \"Studenci Vistuli są utalentowani, inteligentni i mili\"\n",
        "zdanie += \", ale nie zaliczą tego kursu\"\n",
        "\n",
        "wstep, prawdziwa, niprawdziwa = zdanie.split(\",\")\n",
        "print(wstep + prawdziwa)"
      ],
      "metadata": {
        "colab": {
          "base_uri": "https://localhost:8080/"
        },
        "id": "Od7Kpv4dtxEm",
        "outputId": "ca316675-df61-41c4-d132-a98034cd9581"
      },
      "execution_count": 4,
      "outputs": [
        {
          "output_type": "stream",
          "name": "stdout",
          "text": [
            "Studenci Vistuli są utalentowani inteligentni i mili\n"
          ]
        }
      ]
    },
    {
      "cell_type": "code",
      "source": [
        "# Zadanie 4\n",
        "# Proszę utworzyć listę 'rośliny' zawierającą trzy krotki:\n",
        "# ssaki = ('chomiki', 'jelenie', 'jaguary')\n",
        "# ptaki = ('gołębie', 'jastrzębie', 'strusie')\n",
        "# gady = ('węże', 'krokodyle', 'warany')\n",
        "# Proszę wyświetlić nazwy wszystkich zwierząt jedną po drugiej\n",
        "\n",
        "ssaki = ('chomiki', 'jelenie', 'jaguary')\n",
        "ptaki = ('gołębie', 'jastrzębie', 'strusie')\n",
        "gady = ('węże', 'krokodyle', 'warany')\n",
        "\n",
        "all_animals = ssaki + gady + ptaki\n",
        "\n",
        "for i in all_animals:\n",
        "  print(i)\n"
      ],
      "metadata": {
        "colab": {
          "base_uri": "https://localhost:8080/"
        },
        "id": "jNenGJEDur7Z",
        "outputId": "af180fee-1ff7-48f4-eabc-19baf3b8f9ec"
      },
      "execution_count": 6,
      "outputs": [
        {
          "output_type": "stream",
          "name": "stdout",
          "text": [
            "chomiki\n",
            "jelenie\n",
            "jaguary\n",
            "węże\n",
            "krokodyle\n",
            "warany\n",
            "gołębie\n",
            "jastrzębie\n",
            "strusie\n"
          ]
        }
      ]
    },
    {
      "cell_type": "code",
      "source": [
        "# Zadanie 5\n",
        "# Proszę napisać programik, który będzie prosił użytkownika o podanie liczby\n",
        "# całkowitej N, a następnie obliczał: (a) cos(pi*N/6), jeśli N < 0,\n",
        "# (b) cos(pi*N/4), jeśli N > 0, oraz cos(pi*N/3) w pozostałych przypadkach :-).\n",
        "import math\n",
        "\n",
        "n = int(input(\"Enter your number\"))\n",
        "\n",
        "if n < 0:\n",
        "  print(math.cos(math.pi*n/6))\n",
        "elif n > 0:\n",
        "  print(math.cos(math.pi*n/4))\n",
        "else:\n",
        "  print(math.cos(math.pi*n/3))"
      ],
      "metadata": {
        "colab": {
          "base_uri": "https://localhost:8080/"
        },
        "id": "ivATo_5KvOSI",
        "outputId": "513f5af8-2b48-4909-8e77-5058591694a9"
      },
      "execution_count": 9,
      "outputs": [
        {
          "output_type": "stream",
          "name": "stdout",
          "text": [
            "Enter your number0\n",
            "1.0\n"
          ]
        }
      ]
    }
  ]
}